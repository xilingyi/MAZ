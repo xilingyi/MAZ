{
 "cells": [
  {
   "cell_type": "code",
   "execution_count": 80,
   "metadata": {
    "ExecuteTime": {
     "end_time": "2024-07-06T13:43:33.474015Z",
     "start_time": "2024-07-06T13:43:33.449927Z"
    }
   },
   "outputs": [],
   "source": [
    "import numpy as np\n",
    "import pandas as pd\n",
    "import csv\n",
    "\n",
    "import matplotlib as mpl\n",
    "import matplotlib.pyplot as plt\n",
    "import math\n",
    "\n",
    "from sklearn.feature_selection import RFE\n",
    "from sklearn.ensemble import RandomForestRegressor as RFR\n",
    "from sklearn.linear_model import LinearRegression as LR\n",
    "from sklearn.model_selection import train_test_split,cross_val_score\n",
    "import matplotlib.pyplot as plt\n",
    "\n",
    "from sklearn import preprocessing\n",
    "from sklearn.metrics import mean_squared_error\n",
    "from sklearn.metrics import r2_score\n",
    "from sklearn.model_selection import train_test_split\n",
    "from sklearn.neighbors import KNeighborsRegressor\n",
    "from sklearn.linear_model import LinearRegression\n",
    "from sklearn.ensemble import RandomForestRegressor\n",
    "from sklearn.linear_model import Lasso\n",
    "from sklearn.linear_model import LassoCV\n",
    "from sklearn.svm import SVR\n",
    "from sklearn.kernel_ridge import KernelRidge\n",
    "\n",
    "\n",
    "from sklearn.model_selection import GridSearchCV\n",
    "from sklearn.model_selection import RandomizedSearchCV"
   ]
  },
  {
   "cell_type": "markdown",
   "metadata": {},
   "source": [
    "# read data"
   ]
  },
  {
   "cell_type": "code",
   "execution_count": 81,
   "metadata": {
    "ExecuteTime": {
     "end_time": "2024-07-06T13:43:35.688406Z",
     "start_time": "2024-07-06T13:43:34.827322Z"
    },
    "scrolled": true
   },
   "outputs": [],
   "source": [
    "data = pd.read_excel(r'list-FUC.xlsx')\n",
    "inputData = np.array(data.iloc[:,2:])\n",
    "outputData = np.array(data.iloc[:,1])"
   ]
  },
  {
   "cell_type": "markdown",
   "metadata": {},
   "source": [
    "# hyperparameter optimization"
   ]
  },
  {
   "cell_type": "code",
   "execution_count": 82,
   "metadata": {
    "ExecuteTime": {
     "end_time": "2024-07-06T14:05:46.996921Z",
     "start_time": "2024-07-06T13:43:36.437130Z"
    }
   },
   "outputs": [],
   "source": [
    "test_size = 0.2\n",
    "def generateRfrParamGrid(low1,high1,num1,low2,high2,num2):      # \n",
    "    param_grid = {\n",
    "        'n_estimators':np.arange(int(low1),int(high1),int(num1)),\n",
    "        'max_depth':np.arange(int(low2),int(high2),int(num2))\n",
    "    }\n",
    "    return param_grid\n",
    "param = generateRfrParamGrid(300,500,10,3,7,1)\n",
    "rfr = RandomForestRegressor()\n",
    "search = GridSearchCV(rfr,param_grid=param,n_jobs=-1,cv=2)\n",
    "for i in range(10):\n",
    "        X_train,X_test,y_train,y_test = train_test_split(inputData,outputData,test_size=test_size,random_state=None)    # Randomly split data                                                                                                                  # 该方法对dataframe也适用\n",
    "        min_max_scaler = preprocessing.MinMaxScaler()\n",
    "        X_train=min_max_scaler.fit_transform(X_train)\n",
    "        X_test=min_max_scaler.fit_transform(X_test)\n",
    "        y_train=min_max_scaler.fit_transform(y_train.reshape(-1,1)).ravel()   # converts it to a column\n",
    "        y_test=min_max_scaler.fit_transform(y_test.reshape(-1,1)).ravel()    # converts it to a column       \n",
    "        search.fit(X_train,y_train)      # fitting\n",
    "        regr = search.best_estimator_        \n",
    "        score = regr.score(X_test,y_test)  # score\n",
    "        if i == 0:\n",
    "            max_score = score           # at run 0, record R2 and the model at this point\n",
    "        if i>0:\n",
    "            if score>max_score:\n",
    "                choose_regr = regr   "
   ]
  },
  {
   "cell_type": "code",
   "execution_count": 83,
   "metadata": {
    "ExecuteTime": {
     "end_time": "2024-07-06T14:05:47.058358Z",
     "start_time": "2024-07-06T14:05:47.004921Z"
    }
   },
   "outputs": [
    {
     "data": {
      "text/plain": [
       "RandomForestRegressor(max_depth=6, n_estimators=310)"
      ]
     },
     "execution_count": 83,
     "metadata": {},
     "output_type": "execute_result"
    }
   ],
   "source": [
    "choose_regr"
   ]
  },
  {
   "cell_type": "code",
   "execution_count": 84,
   "metadata": {
    "ExecuteTime": {
     "end_time": "2024-07-06T14:05:47.074410Z",
     "start_time": "2024-07-06T14:05:47.062622Z"
    }
   },
   "outputs": [],
   "source": [
    "best_max_depth = choose_regr.max_depth\n",
    "best_n_estimators = choose_regr.n_estimators"
   ]
  },
  {
   "cell_type": "code",
   "execution_count": 123,
   "metadata": {
    "ExecuteTime": {
     "end_time": "2024-07-06T15:24:45.025510Z",
     "start_time": "2024-07-06T14:07:54.177884Z"
    }
   },
   "outputs": [],
   "source": [
    "from sklearn.model_selection import cross_val_score, KFold\n",
    "\n",
    "RFR_ = RFR(n_estimators=best_n_estimators ,max_depth=best_max_depth)\n",
    "kf = KFold(n_splits=5)\n",
    "score = []\n",
    "for i in list(range(1, 20, 1)) + list(range(20, 210, 10)):\n",
    "    cv_scores = []\n",
    "    for train_index, test_index in kf.split(inputData):\n",
    "        X_train, X_test = inputData[train_index], inputData[test_index]\n",
    "        y_train, y_test = outputData[train_index], outputData[test_index]\n",
    "        \n",
    "        selector = RFE(RFR_, n_features_to_select=i, step=50)\n",
    "        X_train_selected = selector.fit_transform(X_train, y_train)\n",
    "        X_test_selected = selector.transform(X_test)\n",
    "        \n",
    "        RFR_.fit(X_train_selected, y_train)\n",
    "        cv_scores.append(RFR_.score(X_test_selected, y_test))\n",
    "        \n",
    "    score.append(np.mean(cv_scores))\n",
    " "
   ]
  },
  {
   "cell_type": "code",
   "execution_count": 124,
   "metadata": {
    "ExecuteTime": {
     "end_time": "2024-07-06T15:24:45.587663Z",
     "start_time": "2024-07-06T15:24:45.026825Z"
    },
    "scrolled": true
   },
   "outputs": [
    {
     "data": {
      "image/png": "[encoded data removed]",
      "text/plain": [
       "<Figure size 576x360 with 1 Axes>"
      ]
     },
     "metadata": {
      "needs_background": "light"
     },
     "output_type": "display_data"
    }
   ],
   "source": [
    "plt.figure(figsize=[8,5])\n",
    "plt.plot(list(range(1,20,1))+list(range(20,210,10)),score,'o-')\n",
    "plt.xticks([1]+list(range(10,210,10)))\n",
    "plt.savefig(\"list-RFE-processed-feature-fixed-10.png\")\n",
    "plt.show()"
   ]
  },
  {
   "cell_type": "code",
   "execution_count": 125,
   "metadata": {},
   "outputs": [],
   "source": [
    "B = pd.DataFrame(score)\n",
    "B.to_csv(\"list-RFE-R2-fixed-10.csv\",index=False,sep=',')"
   ]
  },
  {
   "cell_type": "code",
   "execution_count": 126,
   "metadata": {},
   "outputs": [],
   "source": [
    "X_wrapper = RFE(RFR_,n_features_to_select=20,step=50).fit_transform(inputData,outputData)"
   ]
  },
  {
   "cell_type": "code",
   "execution_count": 127,
   "metadata": {},
   "outputs": [
    {
     "data": {
      "text/plain": [
       "array([[-7.26900000e-01,  6.52100000e+02, -1.24140000e+00, ...,\n",
       "         1.36020000e+03,  3.00338333e+03,  2.11108571e+03],\n",
       "       [ 4.90000000e-01,  6.52900000e+02, -1.22367143e+00, ...,\n",
       "         1.88270000e+03,  2.86576667e+03,  2.19384286e+03],\n",
       "       [-4.78100000e-01,  6.58500000e+02, -1.03505714e+00, ...,\n",
       "         1.46122857e+03,  3.10038333e+03,  2.21437143e+03],\n",
       "       ...,\n",
       "       [-9.88700000e-01,  6.00000000e+02, -1.05640000e+00, ...,\n",
       "         8.94537143e+02,  2.21038333e+03,  1.59508571e+03],\n",
       "       [-5.27900000e-01,  6.40100000e+02, -1.19870000e+00, ...,\n",
       "         4.84394286e+02,  2.53412000e+03,  1.52992000e+03],\n",
       "       [-5.27900000e-01,  6.40100000e+02, -1.15270000e+00, ...,\n",
       "         9.41537143e+02,  2.69271667e+03,  1.80180000e+03]])"
      ]
     },
     "execution_count": 127,
     "metadata": {},
     "output_type": "execute_result"
    }
   ],
   "source": [
    "X_wrapper"
   ]
  },
  {
   "cell_type": "code",
   "execution_count": 128,
   "metadata": {},
   "outputs": [
    {
     "data": {
      "text/plain": [
       "(150, 20)"
      ]
     },
     "execution_count": 128,
     "metadata": {},
     "output_type": "execute_result"
    }
   ],
   "source": [
    "X_wrapper.shape"
   ]
  },
  {
   "cell_type": "code",
   "execution_count": 129,
   "metadata": {},
   "outputs": [],
   "source": [
    "A = pd.DataFrame(X_wrapper)"
   ]
  },
  {
   "cell_type": "code",
   "execution_count": 130,
   "metadata": {},
   "outputs": [],
   "source": [
    "A.to_csv(\"list-RFE-fixed-10.csv\",index=False,sep=',')"
   ]
  },
  {
   "cell_type": "code",
   "execution_count": null,
   "metadata": {},
   "outputs": [],
   "source": []
  }
 ],
 "metadata": {
  "kernelspec": {
   "display_name": "Python 3 (ipykernel)",
   "language": "python",
   "name": "python3"
  },
  "language_info": {
   "codemirror_mode": {
    "name": "ipython",
    "version": 3
   },
   "file_extension": ".py",
   "mimetype": "text/x-python",
   "name": "python",
   "nbconvert_exporter": "python",
   "pygments_lexer": "ipython3",
   "version": "3.9.12"
  },
  "varInspector": {
   "cols": {
    "lenName": 16,
    "lenType": 16,
    "lenVar": 40
   },
   "kernels_config": {
    "python": {
     "delete_cmd_postfix": "",
     "delete_cmd_prefix": "del ",
     "library": "var_list.py",
     "varRefreshCmd": "print(var_dic_list())"
    },
    "r": {
     "delete_cmd_postfix": ") ",
     "delete_cmd_prefix": "rm(",
     "library": "var_list.r",
     "varRefreshCmd": "cat(var_dic_list()) "
    }
   },
   "types_to_exclude": [
    "module",
    "function",
    "builtin_function_or_method",
    "instance",
    "_Feature"
   ],
   "window_display": false
  }
 },
 "nbformat": 4,
 "nbformat_minor": 4
}
